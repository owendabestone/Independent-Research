{
 "cells": [
  {
   "cell_type": "code",
   "execution_count": 158,
   "metadata": {},
   "outputs": [
    {
     "name": "stdout",
     "output_type": "stream",
     "text": [
      "Requirement already up-to-date: pandas in c:\\users\\chang\\appdata\\roaming\\python\\python38\\site-packages (1.1.4)\n",
      "Requirement already satisfied, skipping upgrade: pytz>=2017.2 in c:\\programdata\\anaconda3\\lib\\site-packages (from pandas) (2020.1)\n",
      "Requirement already satisfied, skipping upgrade: python-dateutil>=2.7.3 in c:\\programdata\\anaconda3\\lib\\site-packages (from pandas) (2.8.1)\n",
      "Requirement already satisfied, skipping upgrade: numpy>=1.15.4 in c:\\programdata\\anaconda3\\lib\\site-packages (from pandas) (1.18.5)\n",
      "Requirement already satisfied, skipping upgrade: six>=1.5 in c:\\programdata\\anaconda3\\lib\\site-packages (from python-dateutil>=2.7.3->pandas) (1.15.0)\n"
     ]
    }
   ],
   "source": [
    "!pip install --upgrade pandas --user\n"
   ]
  },
  {
   "cell_type": "code",
   "execution_count": 13,
   "metadata": {},
   "outputs": [],
   "source": [
    "import pandas as pd\n",
    "import numpy as np\n",
    "pd.set_option('display.max_rows', 1000)\n",
    "pd.set_option('display.max_columns', 1000)\n",
    "canvas = pd.read_csv(\"Original Datasets/canvas_wi20.csv\")\n",
    "roster = pd.read_csv(\"Original Datasets/roster_wi20.csv\")\n",
    "final = pd.read_csv(\"Original Datasets/final_grades_wi20.csv\")\n",
    "mid_survey = pd.read_csv(\"Original Datasets/mid_survey_wi20.csv\")\n",
    "pos_survey = pd.read_csv(\"Original Datasets/post_survey_wi20.csv\")\n",
    "pre_survey = pd.read_csv(\"Original Datasets/pre_survey_wi20.csv\")\n",
    "p_views= pd.read_csv(\"Original Datasets/piazza_views_wi20.csv\")\n",
    "p_stats= pd.read_csv(\"Original Datasets/piazza_stats_wi20.csv\")\n",
    "section = pd.read_csv('Original Datasets/section_attendance_wi20.csv')"
   ]
  },
  {
   "cell_type": "markdown",
   "metadata": {},
   "source": [
    "#### recording the rows with total points of zero"
   ]
  },
  {
   "cell_type": "code",
   "execution_count": 14,
   "metadata": {},
   "outputs": [],
   "source": [
    "final = final.dropna()\n",
    "to_remove=[]\n",
    "for ID, points in zip(final['ID'],final['total_points']):\n",
    "    if (points == 0) & (ID not in to_remove):\n",
    "        to_remove.append(ID)"
   ]
  },
  {
   "cell_type": "code",
   "execution_count": 15,
   "metadata": {},
   "outputs": [],
   "source": [
    "final = final[final['total_points']>0] \n",
    "final.to_csv('final.csv')\n",
    "mid_survey = mid_survey.dropna()"
   ]
  },
  {
   "cell_type": "markdown",
   "metadata": {},
   "source": [
    "#### removing NaN IDs "
   ]
  },
  {
   "cell_type": "code",
   "execution_count": 16,
   "metadata": {},
   "outputs": [],
   "source": [
    "roster.dropna(subset=['ID'],inplace=True)\n",
    "pre_survey.dropna(subset=['ID'],inplace=True)\n",
    "pos_survey.dropna(subset=['ID'],inplace=True)\n",
    "mid_survey.dropna(subset=['ID'],inplace=True)\n",
    "p_views.dropna(subset=['ID'],inplace=True)\n",
    "p_stats.dropna(subset=['ID'],inplace=True)\n",
    "canvas.dropna(subset=['ID'],inplace=True)\n",
    "section.dropna(subset=['ID'],inplace=True)"
   ]
  },
  {
   "cell_type": "markdown",
   "metadata": {},
   "source": [
    "#### recording the students who have submited two surveys "
   ]
  },
  {
   "cell_type": "code",
   "execution_count": 17,
   "metadata": {},
   "outputs": [],
   "source": [
    "dup = []\n",
    "i= pre_survey.ID.value_counts()\n",
    "\n",
    "for key in i.keys():\n",
    "    if i[key] > 1:\n",
    "        dup.append(key)\n",
    "        \n",
    "        \n",
    "i= mid_survey.ID.value_counts()\n",
    "\n",
    "for key in i.keys():\n",
    "    if i[key] > 1:\n",
    "        dup.append(key)\n",
    "        \n",
    "i= pos_survey.ID.value_counts()\n",
    "\n",
    "for key in i.keys():\n",
    "    if i[key] > 1:\n",
    "        dup.append(key)"
   ]
  },
  {
   "cell_type": "markdown",
   "metadata": {},
   "source": [
    "#### setting ID as the index for better merge"
   ]
  },
  {
   "cell_type": "code",
   "execution_count": 18,
   "metadata": {},
   "outputs": [],
   "source": [
    "final.set_index('ID',inplace = True)\n",
    "canvas.set_index('ID',inplace = True)\n",
    "mid_survey.set_index('ID',inplace = True)\n",
    "pre_survey.set_index('ID',inplace = True)\n",
    "pos_survey.set_index('ID',inplace = True)\n",
    "p_views.set_index('ID',inplace = True)\n",
    "p_stats.set_index('ID',inplace = True)\n",
    "roster.set_index('ID',inplace = True)\n",
    "section.set_index('ID', inplace = True)"
   ]
  },
  {
   "cell_type": "markdown",
   "metadata": {},
   "source": [
    "#### saving the last recorded survey"
   ]
  },
  {
   "cell_type": "code",
   "execution_count": 19,
   "metadata": {},
   "outputs": [],
   "source": [
    "pre_dup = pre_survey[pre_survey.index.duplicated(keep='last')]\n",
    "mid_dup = mid_survey[mid_survey.index.duplicated(keep='last')]\n",
    "pos_dup = pos_survey[pos_survey.index.duplicated(keep='last')]"
   ]
  },
  {
   "cell_type": "markdown",
   "metadata": {},
   "source": [
    "#### removing the unwanted rows"
   ]
  },
  {
   "cell_type": "code",
   "execution_count": 20,
   "metadata": {},
   "outputs": [],
   "source": [
    "\n",
    "for i in to_remove:\n",
    "    roster = roster[roster.index!= i]\n",
    "    pre_survey = pre_survey[pre_survey.index!= i]\n",
    "    mid_survey = mid_survey[mid_survey.index!= i]\n",
    "    pos_survey = pos_survey[pos_survey.index!= i]\n",
    "    canvas= canvas[canvas.index!= i]\n",
    "    p_stats= p_stats[p_stats.index!= i]\n",
    "    p_views= p_views[p_views.index!= i]\n",
    "\n",
    "for i in dup:    \n",
    "    pre_survey = pre_survey[pre_survey.index!= i]\n",
    "    mid_survey = mid_survey[mid_survey.index!= i]\n",
    "    pos_survey = pos_survey[pos_survey.index!= i]"
   ]
  },
  {
   "cell_type": "markdown",
   "metadata": {},
   "source": [
    "#### adding the last recorded survey data back "
   ]
  },
  {
   "cell_type": "code",
   "execution_count": 21,
   "metadata": {},
   "outputs": [],
   "source": [
    "pre_survey = pre_survey.append([pre_dup])\n",
    "mid_survey = mid_survey.append([mid_dup])\n",
    "pos_survey = pos_survey.append([pos_dup])"
   ]
  },
  {
   "cell_type": "markdown",
   "metadata": {},
   "source": [
    "#### throwing away useless columns "
   ]
  },
  {
   "cell_type": "code",
   "execution_count": 22,
   "metadata": {},
   "outputs": [],
   "source": [
    "roster = roster.drop(['Pronoun','Credits'],axis=1)\n",
    "p_stats = p_stats.drop(['groups'],axis=1)\n",
    "section = section.drop(['1','2','3','4','5','6','7','8'],axis=1)"
   ]
  },
  {
   "cell_type": "markdown",
   "metadata": {},
   "source": [
    "#### adding the number of piazza views per student"
   ]
  },
  {
   "cell_type": "code",
   "execution_count": 23,
   "metadata": {},
   "outputs": [],
   "source": [
    "temp= dict(p_views.drop([\"role\"],axis=1).count(axis=1))\n",
    "df = pd.DataFrame.from_dict(data=temp,orient='index')\n",
    "p_sum = df.rename({0:'piazza views'}, axis='columns')"
   ]
  },
  {
   "cell_type": "markdown",
   "metadata": {},
   "source": [
    "#### removing students who have entered the surveys 3 times "
   ]
  },
  {
   "cell_type": "code",
   "execution_count": 24,
   "metadata": {},
   "outputs": [],
   "source": [
    "dup = []\n",
    "i= pos_survey.index.value_counts()\n",
    "\n",
    "for key in i.keys():\n",
    "    if i[key] > 1:\n",
    "        dup.append(key)\n",
    "\n",
    "pos_dup_dup = pos_dup[pos_dup.index.duplicated(keep='last')]\n",
    "\n",
    "for i in dup:    \n",
    "    pos_survey = pos_survey[pos_survey.index!= i]\n",
    "    \n",
    "pos_survey = pos_survey.append([pos_dup_dup])\n"
   ]
  },
  {
   "cell_type": "markdown",
   "metadata": {},
   "source": [
    "#### combining all the dataframes into one "
   ]
  },
  {
   "cell_type": "code",
   "execution_count": 25,
   "metadata": {},
   "outputs": [],
   "source": [
    "merged = pd.merge(final,roster, left_index=True, right_on=\"ID\")\n",
    "merged = pd.merge(merged, canvas, right_index=True, left_on=\"ID\", how='left')\n",
    "merged = pd.merge(merged, pre_survey, right_index=True, left_on=\"ID\", how='left')\n",
    "merged = pd.merge(merged, mid_survey, right_index=True, left_on=\"ID\", how='left')\n",
    "merged = pd.merge(merged, pos_survey, right_index=True, left_on=\"ID\", how='left')\n",
    "merged = pd.merge(merged, p_stats['p_stat_sum'], right_index=True, left_on=\"ID\", how='left')\n",
    "merged = pd.merge(merged, p_sum, right_index=True, left_on=\"ID\", how='left')\n",
    "merged = pd.merge(merged, section, right_index = True, left_on=\"ID\", how= 'left')"
   ]
  },
  {
   "cell_type": "code",
   "execution_count": 26,
   "metadata": {},
   "outputs": [],
   "source": [
    "merged = merged.rename({'Grand Total':'section'}, axis='columns')\n",
    "merged['section'] = merged['section'].fillna(0)#NaN in section meaning zero section attendence \n",
    "merged['piazza views'] = merged['piazza views'].fillna(0)\n",
    "merged['p_stat_sum'] = merged['p_stat_sum'].fillna(0)\n",
    "merged['hw_t'] = merged['A1_t']+merged['A2_t']+merged['A2_t']+merged['A3_t']+merged['A4_t']+merged['A5_t']+merged['A6_t']"
   ]
  },
  {
   "cell_type": "code",
   "execution_count": 27,
   "metadata": {
    "scrolled": true
   },
   "outputs": [
    {
     "name": "stdout",
     "output_type": "stream",
     "text": [
      "total_points\n",
      "letter_grade\n",
      "College\n",
      "Major\n",
      "Level\n",
      "Quiz: Week 1 (68682)\n",
      "Quiz: Week 2 (70043)\n",
      "Quiz: Week 3 (71647)\n",
      "Quiz: Week 4 (72797)\n",
      "Quiz: Week 5 (74456)\n",
      "Quiz: Week 6 (75572)\n",
      "Quiz: Week 7 (76768)\n",
      "Quiz: Week 8 (86753)\n",
      "Quiz: Week 9 (88584)\n",
      "Lecture Participation (72030)\n",
      "Pre-Course Survey (EC) (71678)\n",
      "Mid-Course Survey (EC) (85274)\n",
      "Post-Course Survey (EC) (85275)\n",
      "Final Project EC (video) (88590)\n",
      "A1 (72018)\n",
      "A2 (72019)\n",
      "A3 (72020)\n",
      "A4 (72021)\n",
      "A5 (72022)\n",
      "A6 (72023)\n",
      "A_Section (92843)\n",
      "Project Proposal (72024)\n",
      "Project Check-In (72025)\n",
      "Project Survey (72026)\n",
      "Final Project (72027)\n",
      "Guest Lecture 1 (72028)\n",
      "Guest Lecture 2 (72029)\n",
      "Which of the following courses have you taken previously? Check all that apply.\n",
      "In which of the following programming language(s) are you comfortable? Check all that apply.\n",
      "Which of the following topics are you familiar with? (Here, familiar means you could explain the topic clearly to a friend without Googling it first.) Check all that apply._x\n",
      "How comfortable are you with statistics?_x\n",
      "How comfortable are you with programming?_x\n",
      "Why did you enroll in COGS 108? (It is *totally* ok if your answer is \"it was required\")\n",
      "Difficulty: Relative to other courses you've taken at UCSD, COGS 108 is...\n",
      "Workload: Relative to other courses you've taken at UCSD, COGS 108 is...\n",
      "A1_t\n",
      "A2_t\n",
      "A3_t\n",
      "Which of the following topics are you familiar with? (Here, familiar means you could explain the topic clearly to a friend without Googling it first.) Check all that apply._y\n",
      "How comfortable are you with statistics?_y\n",
      "How comfortable are you with programming?_y\n",
      "Check all that apply: Which of the following are skills you believe you possess?\n",
      "A4_t\n",
      "A5_t\n",
      "A6_t\n",
      "project_t\n",
      "p_stat_sum\n",
      "piazza views\n",
      "section\n",
      "hw_t\n"
     ]
    }
   ],
   "source": [
    "for i in merged.columns:\n",
    "    print(i)"
   ]
  },
  {
   "cell_type": "markdown",
   "metadata": {},
   "source": [
    "#### quantify difficulty "
   ]
  },
  {
   "cell_type": "code",
   "execution_count": 28,
   "metadata": {},
   "outputs": [],
   "source": [
    "temp= []\n",
    "for i in merged[\"Difficulty: Relative to other courses you've taken at UCSD, COGS 108 is...\"]:\n",
    "    if 'about as difficult as' in str(i):\n",
    "        temp.append(0)\n",
    "    elif 'somewhat easier' in str(i):\n",
    "        temp.append(-0.5)\n",
    "    elif 'somewhat more difficult' in str(i):\n",
    "        temp.append(0.5)\n",
    "    elif 'way easier' in str(i):\n",
    "        temp.append(-1)\n",
    "    elif 'way more difficult' in str(i):\n",
    "        temp.append(1)\n",
    "    else:\n",
    "        temp.append(i) \n",
    "merged['difficulty']=temp\n",
    "\n",
    "\n",
    "temp= []\n",
    "for i in merged[\"Workload: Relative to other courses you've taken at UCSD, COGS 108 is...\"]:\n",
    "    if 'about the same' in str(i):\n",
    "        temp.append(0)\n",
    "    elif 'somewhat less work' in str(i):\n",
    "        temp.append(-0.5)\n",
    "    elif 'somewhat more work' in str(i):\n",
    "        temp.append(0.5)\n",
    "    elif 'way less work than' in str(i):\n",
    "        temp.append(-1)\n",
    "    elif 'way more work' in str(i):\n",
    "        temp.append(1)\n",
    "    else:\n",
    "        temp.append(i) \n",
    "merged['workload']=temp"
   ]
  },
  {
   "cell_type": "markdown",
   "metadata": {},
   "source": [
    "# prior experience analysis"
   ]
  },
  {
   "cell_type": "markdown",
   "metadata": {},
   "source": [
    "#### counting the number of topics and languages they knew prior to cogs108 "
   ]
  },
  {
   "cell_type": "code",
   "execution_count": 29,
   "metadata": {},
   "outputs": [],
   "source": [
    "temp = merged['Which of the following topics are you familiar with? (Here, familiar means you could explain the topic clearly to a friend without Googling it first.) Check all that apply._x']\n",
    "\n",
    "temp_d={}\n",
    "for value,key in zip(temp,merged.index):\n",
    "\n",
    "    store = 0 \n",
    "    if str(value) == 'nan' :\n",
    "        store = np.nan\n",
    "    \n",
    "    if \"data\" in str(value):\n",
    "        store += 1\n",
    "\n",
    "    if \"version control\" in str(value):\n",
    "        store += 1 \n",
    "        \n",
    "    if \"GitHub\" in str(value):\n",
    "        store += 1 \n",
    "        \n",
    "    if \"Python\" in str(value):\n",
    "        store += 1 \n",
    "        \n",
    "    if \"Jupyter\" in str(value):\n",
    "        store += 1 \n",
    "        \n",
    "    if \"JSON\" in str(value):\n",
    "        store += 1 \n",
    "        \n",
    "    if \"tabular\" in str(value):\n",
    "        store += 1 \n",
    "        \n",
    "    if \"machine\" in str(value):\n",
    "        store += 1 \n",
    "        \n",
    "    if \"confounding\" in str(value):\n",
    "        store += 1 \n",
    "        \n",
    "    if \"p-value\" in str(value):\n",
    "        store += 1 \n",
    "        \n",
    "    if \"p-hacking\" in str(value):\n",
    "        store += 1 \n",
    "        \n",
    "    if \"sentiment\" in str(value):\n",
    "        store += 1 \n",
    "        \n",
    "    if \"geospatial\" in str(value):\n",
    "        store += 1 \n",
    "        \n",
    "    if \"pandas\" in str(value):\n",
    "        store += 1 \n",
    "\n",
    "    if \"sklearn\" in str(value):\n",
    "        store += 1 \n",
    "        \n",
    "    if \"testing\" in str(value):\n",
    "        store += 1 \n",
    "    temp_d[key] =store\n",
    "df = pd.DataFrame.from_dict(data=temp_d,orient='index')\n",
    "pre_ex = df.rename({0:'number of subjects learned '}, axis='columns')"
   ]
  },
  {
   "cell_type": "code",
   "execution_count": 30,
   "metadata": {},
   "outputs": [],
   "source": [
    "experience = pd.merge(pre_ex,merged['How comfortable are you with programming?_x'], left_index=True, right_on=\"ID\")\n",
    "experience = pd.merge(experience,merged['How comfortable are you with statistics?_x'], left_index=True, right_on=\"ID\")"
   ]
  },
  {
   "cell_type": "code",
   "execution_count": 31,
   "metadata": {},
   "outputs": [],
   "source": [
    "temp = merged['Which of the following courses have you taken previously? Check all that apply.']\n",
    "temp_d={}\n",
    "for value,key in zip(temp,merged.index):\n",
    "\n",
    "    store = 0 \n",
    "    if \"COGS 9\" in str(value):\n",
    "        store += 1\n",
    "        \n",
    "    if \"COGS 18\" in str(value):\n",
    "        store += 1\n",
    "\n",
    "    if str(value) == 'NA' :\n",
    "        store = 0\n",
    "        \n",
    "    temp_d[key] = store\n",
    "    \n",
    "df = pd.DataFrame.from_dict(data=temp_d,orient='index')\n",
    "df\n",
    "pre_ex = df.rename({0:'classes'}, axis='columns')\n",
    "\n",
    "experience = pd.merge(experience,pre_ex, left_index=True, right_on=pre_ex.index)"
   ]
  },
  {
   "cell_type": "code",
   "execution_count": 32,
   "metadata": {
    "scrolled": false
   },
   "outputs": [],
   "source": [
    "experience = experience.drop([\"key_0\"],axis=1)"
   ]
  },
  {
   "cell_type": "code",
   "execution_count": 33,
   "metadata": {},
   "outputs": [],
   "source": [
    "temp = merged['In which of the following programming language(s) are you comfortable? Check all that apply.']\n",
    "temp_d={}\n",
    "for value,key in zip(temp,merged.index):\n",
    "\n",
    "    store = 0 \n",
    "    if \"Jave\" in str(value):\n",
    "        store += 1\n",
    "        \n",
    "    if \"Python\" in str(value):\n",
    "        store += 1\n",
    "\n",
    "    if \"R\" in str(value):\n",
    "        store += 1\n",
    "        \n",
    "    if \"MATLAB\" in str(value):\n",
    "        store += 1\n",
    "        \n",
    "    \n",
    "    temp_d[key] = store\n",
    "    \n",
    "df = pd.DataFrame.from_dict(data=temp_d,orient='index')\n",
    "pre_ex = df.rename({0:'lanuage'}, axis='columns')\n",
    "\n",
    "experience = pd.merge(experience,pre_ex, left_index=True, right_on=pre_ex.index)\n",
    "experience = experience.drop([\"key_0\"],axis=1)"
   ]
  },
  {
   "cell_type": "code",
   "execution_count": 34,
   "metadata": {},
   "outputs": [],
   "source": [
    "experience = pd.merge(experience,merged['total_points'], left_index=True, right_on=pre_ex.index)\n",
    "experience = experience.drop([\"key_0\"],axis=1)"
   ]
  },
  {
   "cell_type": "code",
   "execution_count": 35,
   "metadata": {},
   "outputs": [
    {
     "data": {
      "text/plain": [
       "(293, 6)"
      ]
     },
     "execution_count": 35,
     "metadata": {},
     "output_type": "execute_result"
    }
   ],
   "source": [
    "experience_array = np.array(experience.dropna())\n",
    "experience_array.shape"
   ]
  },
  {
   "cell_type": "markdown",
   "metadata": {},
   "source": [
    "### deleting the ones have missing surveys "
   ]
  },
  {
   "cell_type": "code",
   "execution_count": 36,
   "metadata": {},
   "outputs": [],
   "source": [
    "experience_dropna = experience.dropna()"
   ]
  },
  {
   "cell_type": "markdown",
   "metadata": {},
   "source": [
    "#### checking the correlation coefficents between catagories of prior experiences and total scores"
   ]
  },
  {
   "cell_type": "code",
   "execution_count": 37,
   "metadata": {},
   "outputs": [
    {
     "name": "stdout",
     "output_type": "stream",
     "text": [
      "correlation between subject and points: 0.13505637810190096\n",
      "correlation between how comfortable students with programing and points: 0.2465000117199603\n",
      "correlation between how comfortable students with statistics and points: 0.06951722957134995\n",
      "correlation between how many classes students took and points: 0.08218074080190335\n",
      "correlation between how many language students knew and points: 0.13773260354298517\n"
     ]
    }
   ],
   "source": [
    "from scipy.stats import pearsonr\n",
    "\n",
    "r,_ = pearsonr(experience_dropna['number of subjects learned '],experience_dropna['total_points'])\n",
    "print('correlation between subject and points:',r)\n",
    "\n",
    "r,_ = pearsonr(experience_dropna['How comfortable are you with programming?_x'],experience_dropna['total_points'])\n",
    "print('correlation between how comfortable students with programing and points:',r)\n",
    "\n",
    "r,_ = pearsonr(experience_dropna['How comfortable are you with statistics?_x'],experience_dropna['total_points'])\n",
    "print('correlation between how comfortable students with statistics and points:',r)\n",
    "\n",
    "r,_ = pearsonr(experience_dropna['classes'],experience_dropna['total_points'])\n",
    "print('correlation between how many classes students took and points:',r)\n",
    "\n",
    "r,_ = pearsonr(experience_dropna['lanuage'],experience_dropna['total_points'])\n",
    "print('correlation between how many language students knew and points:',r)"
   ]
  },
  {
   "cell_type": "markdown",
   "metadata": {},
   "source": [
    "#### here I added weights to each feature and calculated the sum. "
   ]
  },
  {
   "cell_type": "code",
   "execution_count": 38,
   "metadata": {},
   "outputs": [
    {
     "name": "stdout",
     "output_type": "stream",
     "text": [
      "correlation between a weighted summation of all previous experience features and points: 0.28249619152654715\n"
     ]
    }
   ],
   "source": [
    "experience_array = np.array(experience_dropna)\n",
    "\n",
    "import sklearn \n",
    "from sklearn import linear_model as lm\n",
    "ols = lm.LinearRegression()\n",
    "model = ols.fit(experience_array[:,0:-1],experience_array[:,-1])\n",
    "weighted_ex = np.dot(experience_array[:,0:-1],model.coef_.transpose()) \n",
    "r,_ = pearsonr(weighted_ex,experience_dropna['total_points'])\n",
    "print('correlation between a weighted summation of all previous experience features and points:',r)"
   ]
  },
  {
   "cell_type": "markdown",
   "metadata": {},
   "source": [
    "### Here I have found that there is little to no correlation between previous experience and a total score. "
   ]
  },
  {
   "cell_type": "markdown",
   "metadata": {},
   "source": [
    "### the correlation between each feature and total grade points are very small, even with added weights. Therefore, this confirms that a clustering analysis would be provide us with more info. "
   ]
  },
  {
   "cell_type": "markdown",
   "metadata": {},
   "source": [
    "# Time spent on homework assignment \n",
    "\n",
    "#### creating a new dataframe just for the time spent on homework "
   ]
  },
  {
   "cell_type": "code",
   "execution_count": 39,
   "metadata": {},
   "outputs": [
    {
     "data": {
      "text/plain": [
       "(212, 7)"
      ]
     },
     "execution_count": 39,
     "metadata": {},
     "output_type": "execute_result"
    }
   ],
   "source": [
    "hw_time = pd.merge(merged['A1_t'],merged['A2_t'], left_index=True, right_on=\"ID\")\n",
    "hw_time = pd.merge(hw_time,merged['A3_t'], left_index=True, right_on=\"ID\")\n",
    "hw_time = pd.merge(hw_time,merged['A4_t'], left_index=True, right_on=\"ID\")\n",
    "hw_time = pd.merge(hw_time,merged['A5_t'], left_index=True, right_on=\"ID\")\n",
    "hw_time = pd.merge(hw_time,merged['A6_t'], left_index=True, right_on=\"ID\")\n",
    "hw_time = pd.merge(hw_time,merged['total_points'], left_index=True, right_on=\"ID\")\n",
    "hw_time.dropna(inplace=True)\n",
    "np.array(hw_time).shape"
   ]
  },
  {
   "cell_type": "code",
   "execution_count": 40,
   "metadata": {},
   "outputs": [],
   "source": [
    "hw_time_sum = np.dot(np.array(hw_time)[:,0:-1],np.ones(6))"
   ]
  },
  {
   "cell_type": "code",
   "execution_count": 41,
   "metadata": {},
   "outputs": [],
   "source": [
    "import seaborn as sns\n",
    "import matplotlib.pyplot as plt"
   ]
  },
  {
   "cell_type": "code",
   "execution_count": 42,
   "metadata": {},
   "outputs": [
    {
     "name": "stdout",
     "output_type": "stream",
     "text": [
      "correlation between hour spent on hw and points: -0.28348117657397465\n"
     ]
    },
    {
     "data": {
      "text/plain": [
       "Text(0, 0.5, 'total grades')"
      ]
     },
     "execution_count": 42,
     "metadata": {},
     "output_type": "execute_result"
    },
    {
     "data": {
      "image/png": "[encoded data removed]",
      "text/plain": [
       "<Figure size 432x288 with 1 Axes>"
      ]
     },
     "metadata": {
      "needs_background": "light"
     },
     "output_type": "display_data"
    }
   ],
   "source": [
    "sns.scatterplot(hw_time_sum,np.array(hw_time)[:,-1])\n",
    "r,_ = pearsonr(hw_time_sum,np.array(hw_time)[:,-1])\n",
    "print('correlation between hour spent on hw and points:',r)\n",
    "plt.xlabel('total homework time spent')\n",
    "plt.ylabel('total grades')"
   ]
  },
  {
   "cell_type": "markdown",
   "metadata": {},
   "source": [
    "## K mean (test)\n"
   ]
  },
  {
   "cell_type": "code",
   "execution_count": 43,
   "metadata": {},
   "outputs": [
    {
     "data": {
      "text/plain": [
       "(181, 13)"
      ]
     },
     "execution_count": 43,
     "metadata": {},
     "output_type": "execute_result"
    }
   ],
   "source": [
    "exp_km_data = pd.merge(experience,hw_time, left_index=True, right_on=\"ID\")\n",
    "exp_km_data = pd.merge(exp_km_data,merged['Final Project (72027)'], left_index=True, right_on=\"ID\")\n",
    "exp_km_data.drop(['total_points_x'], axis=1, inplace=True)\n",
    "exp_km_data.dropna(inplace=True)\n",
    "exp_km_arr = np.array(exp_km_data)\n",
    "exp_km_arr.shape"
   ]
  },
  {
   "cell_type": "code",
   "execution_count": 44,
   "metadata": {},
   "outputs": [],
   "source": [
    "from sklearn.cluster import KMeans"
   ]
  },
  {
   "cell_type": "code",
   "execution_count": 45,
   "metadata": {},
   "outputs": [],
   "source": [
    "kmeans_model = KMeans(n_clusters=3, n_init = 20).fit(exp_km_arr[:,0:-1])\n",
    "labels = kmeans_model.labels_"
   ]
  },
  {
   "cell_type": "code",
   "execution_count": 46,
   "metadata": {},
   "outputs": [
    {
     "data": {
      "text/plain": [
       "array([1, 2, 1, 2, 2, 1, 2, 2, 2, 2, 1, 2, 2, 2, 2, 1, 2, 1, 2, 1, 2, 2,\n",
       "       1, 1, 2, 2, 2, 1, 1, 1, 1, 1, 2, 1, 2, 1, 2, 1, 1, 2, 2, 2, 1, 1,\n",
       "       1, 1, 1, 1, 2, 2, 2, 2, 2, 2, 1, 2, 1, 1, 1, 1, 1, 2, 1, 2, 2, 1,\n",
       "       1, 1, 1, 2, 1, 2, 1, 1, 2, 2, 1, 2, 2, 1, 2, 2, 1, 2, 1, 1, 0, 1,\n",
       "       1, 2, 2, 1, 1, 2, 0, 1, 1, 1, 2, 1, 1, 2, 2, 1, 2, 1, 2, 1, 1, 1,\n",
       "       2, 2, 1, 1, 2, 1, 1, 1, 2, 1, 1, 1, 1, 1, 2, 1, 1, 2, 1, 1, 1, 2,\n",
       "       2, 2, 1, 1, 2, 2, 2, 2, 1, 2, 2, 2, 2, 1, 2, 1, 2, 1, 2, 2, 1, 1,\n",
       "       1, 2, 2, 2, 1, 2, 2, 2, 1, 1, 2, 2, 1, 2, 1, 2, 1, 2, 1, 1, 2, 1,\n",
       "       2, 1, 2, 1, 2])"
      ]
     },
     "execution_count": 46,
     "metadata": {},
     "output_type": "execute_result"
    }
   ],
   "source": [
    "labels"
   ]
  },
  {
   "cell_type": "code",
   "execution_count": 47,
   "metadata": {
    "scrolled": false
   },
   "outputs": [],
   "source": [
    "exp_km_data['label']= labels"
   ]
  },
  {
   "cell_type": "markdown",
   "metadata": {},
   "source": [
    "cluster 1 are all the outliers;thus, cluster 1 served no purpose.  normalization will fix this problem and cluster more evenly. "
   ]
  },
  {
   "cell_type": "markdown",
   "metadata": {},
   "source": [
    "#### normalization by dividing every cell by its columns' maxmium "
   ]
  },
  {
   "cell_type": "code",
   "execution_count": 48,
   "metadata": {},
   "outputs": [
    {
     "data": {
      "text/plain": [
       "Index(['number of subjects learned ',\n",
       "       'How comfortable are you with programming?_x',\n",
       "       'How comfortable are you with statistics?_x', 'classes', 'lanuage',\n",
       "       'A1_t', 'A2_t', 'A3_t', 'A4_t', 'A5_t', 'A6_t', 'total_points_y',\n",
       "       'Final Project (72027)'],\n",
       "      dtype='object')"
      ]
     },
     "execution_count": 48,
     "metadata": {},
     "output_type": "execute_result"
    }
   ],
   "source": [
    "exp_km_data.drop(['label'], axis=1,inplace=True)\n",
    "\n",
    "exp_km_data.columns"
   ]
  },
  {
   "cell_type": "code",
   "execution_count": 49,
   "metadata": {},
   "outputs": [],
   "source": [
    "temp = []\n",
    "for col in exp_km_data.columns[:-2]:\n",
    "    temp.append((np.array(exp_km_data[col])-exp_km_data[col].mean())/exp_km_data[col].max())\n",
    "\n",
    "    \n",
    "exp_km_array_norm = np.concatenate((temp[0], temp[1]), axis=0)\n",
    "for i in temp[2:]:\n",
    "    exp_km_array_norm = np.concatenate((exp_km_array_norm,i), axis=0)\n",
    "    \n",
    "exp_km_array_n = exp_km_array_norm.reshape(181, 11,order='F')"
   ]
  },
  {
   "cell_type": "markdown",
   "metadata": {},
   "source": [
    "###  clustering without total points and final project score"
   ]
  },
  {
   "cell_type": "code",
   "execution_count": 50,
   "metadata": {},
   "outputs": [],
   "source": [
    "kmeans_model = KMeans(n_clusters=3, n_init = 20).fit(exp_km_array_n)\n",
    "labels = kmeans_model.labels_"
   ]
  },
  {
   "cell_type": "code",
   "execution_count": 51,
   "metadata": {
    "scrolled": false
   },
   "outputs": [],
   "source": [
    "exp_km_data['label']= labels"
   ]
  },
  {
   "cell_type": "markdown",
   "metadata": {},
   "source": [
    "### average total grade points in each cluster\n"
   ]
  },
  {
   "cell_type": "code",
   "execution_count": 52,
   "metadata": {},
   "outputs": [
    {
     "data": {
      "text/plain": [
       "97.81353658536584"
      ]
     },
     "execution_count": 52,
     "metadata": {},
     "output_type": "execute_result"
    }
   ],
   "source": [
    "exp_km_data[exp_km_data['label']==0]['total_points_y'].mean(axis=0)"
   ]
  },
  {
   "cell_type": "code",
   "execution_count": 53,
   "metadata": {},
   "outputs": [
    {
     "data": {
      "text/plain": [
       "95.89076923076921"
      ]
     },
     "execution_count": 53,
     "metadata": {},
     "output_type": "execute_result"
    }
   ],
   "source": [
    "exp_km_data[exp_km_data['label']==1]['total_points_y'].mean(axis=0)"
   ]
  },
  {
   "cell_type": "code",
   "execution_count": 54,
   "metadata": {},
   "outputs": [
    {
     "data": {
      "text/plain": [
       "96.80716666666667"
      ]
     },
     "execution_count": 54,
     "metadata": {},
     "output_type": "execute_result"
    }
   ],
   "source": [
    "exp_km_data[exp_km_data['label']==2]['total_points_y'].mean(axis=0)"
   ]
  },
  {
   "cell_type": "markdown",
   "metadata": {},
   "source": [
    "### average time spent on homework in each cluster"
   ]
  },
  {
   "cell_type": "code",
   "execution_count": 55,
   "metadata": {},
   "outputs": [],
   "source": [
    "exp_km_data['hw time sum'] =exp_km_data['A1_t']+exp_km_data['A2_t']+exp_km_data['A3_t']+exp_km_data['A4_t']+exp_km_data['A5_t']+exp_km_data['A6_t']"
   ]
  },
  {
   "cell_type": "code",
   "execution_count": 56,
   "metadata": {},
   "outputs": [
    {
     "data": {
      "text/plain": [
       "13.724390243902441"
      ]
     },
     "execution_count": 56,
     "metadata": {},
     "output_type": "execute_result"
    }
   ],
   "source": [
    "exp_km_data[exp_km_data['label']==0]['hw time sum'].mean(axis=0)"
   ]
  },
  {
   "cell_type": "code",
   "execution_count": 57,
   "metadata": {},
   "outputs": [
    {
     "data": {
      "text/plain": [
       "37.43589743589744"
      ]
     },
     "execution_count": 57,
     "metadata": {},
     "output_type": "execute_result"
    }
   ],
   "source": [
    "exp_km_data[exp_km_data['label']==1]['hw time sum'].mean(axis=0)"
   ]
  },
  {
   "cell_type": "code",
   "execution_count": 58,
   "metadata": {},
   "outputs": [
    {
     "data": {
      "text/plain": [
       "25.279166666666665"
      ]
     },
     "execution_count": 58,
     "metadata": {},
     "output_type": "execute_result"
    }
   ],
   "source": [
    "exp_km_data[exp_km_data['label']==2]['hw time sum'].mean(axis=0)"
   ]
  },
  {
   "cell_type": "markdown",
   "metadata": {},
   "source": [
    "### average total project grades in each clusters"
   ]
  },
  {
   "cell_type": "code",
   "execution_count": 59,
   "metadata": {},
   "outputs": [
    {
     "data": {
      "text/plain": [
       "23.414390243902435"
      ]
     },
     "execution_count": 59,
     "metadata": {},
     "output_type": "execute_result"
    }
   ],
   "source": [
    "exp_km_data[exp_km_data['label']==0]['Final Project (72027)'].mean(axis=0)"
   ]
  },
  {
   "cell_type": "code",
   "execution_count": 60,
   "metadata": {},
   "outputs": [
    {
     "data": {
      "text/plain": [
       "23.226410256410258"
      ]
     },
     "execution_count": 60,
     "metadata": {},
     "output_type": "execute_result"
    }
   ],
   "source": [
    "exp_km_data[exp_km_data['label']==1]['Final Project (72027)'].mean(axis=0)"
   ]
  },
  {
   "cell_type": "code",
   "execution_count": 61,
   "metadata": {},
   "outputs": [
    {
     "data": {
      "text/plain": [
       "23.292500000000004"
      ]
     },
     "execution_count": 61,
     "metadata": {},
     "output_type": "execute_result"
    }
   ],
   "source": [
    "exp_km_data[exp_km_data['label']==2]['Final Project (72027)'].mean(axis=0)"
   ]
  },
  {
   "cell_type": "markdown",
   "metadata": {},
   "source": [
    "# PCA   (test)"
   ]
  },
  {
   "cell_type": "code",
   "execution_count": 62,
   "metadata": {},
   "outputs": [],
   "source": [
    "from sklearn.decomposition import PCA\n",
    "import matplotlib.pyplot as plt"
   ]
  },
  {
   "cell_type": "code",
   "execution_count": 63,
   "metadata": {
    "scrolled": true
   },
   "outputs": [
    {
     "data": {
      "image/png": "[encoded data removed]",
      "text/plain": [
       "<Figure size 360x360 with 1 Axes>"
      ]
     },
     "metadata": {
      "needs_background": "light"
     },
     "output_type": "display_data"
    }
   ],
   "source": [
    "pca = PCA(n_components=2)\n",
    "principalComponents = pca.fit_transform(exp_km_array_n)\n",
    "principalDf = pd.DataFrame(data = principalComponents\n",
    "             , columns = ['principal component 1', 'principal component 2'])\n",
    "\n",
    "finalDf = pd.concat([principalDf, pd.Series(exp_km_data['label']).reset_index(drop=True)], axis = 1)\n",
    "\n",
    "fig = plt.figure(figsize = (5,5))\n",
    "ax = fig.add_subplot(1,1,1) \n",
    "ax.set_xlabel('Principal Component 1', fontsize = 15)\n",
    "ax.set_ylabel('Principal Component 2', fontsize = 15)\n",
    "ax.set_title('2 component PCA', fontsize = 20)\n",
    "targets = [0, 1, 2]\n",
    "colors = ['r', 'g', 'b']\n",
    "for target, color in zip(targets,colors):\n",
    "    indicesToKeep = (finalDf['label'] == target)\n",
    "    ax.scatter(finalDf.loc[indicesToKeep, 'principal component 1']\n",
    "               , finalDf.loc[indicesToKeep, 'principal component 2']\n",
    "               , c = color\n",
    "               , s = 50)\n",
    "ax.legend(np.array(targets)+1)\n",
    "ax.grid()"
   ]
  },
  {
   "cell_type": "code",
   "execution_count": 64,
   "metadata": {
    "scrolled": false
   },
   "outputs": [
    {
     "data": {
      "text/plain": [
       "(array([-0.47481543, -0.31234319, -0.27656331, -0.19142874, -0.49053289,\n",
       "         0.29751923,  0.29884416,  0.29735352,  0.12817781,  0.1383192 ,\n",
       "         0.14639296]),\n",
       " Index(['number of subjects learned ',\n",
       "        'How comfortable are you with programming?_x',\n",
       "        'How comfortable are you with statistics?_x', 'classes', 'lanuage',\n",
       "        'A1_t', 'A2_t', 'A3_t', 'A4_t', 'A5_t', 'A6_t'],\n",
       "       dtype='object'))"
      ]
     },
     "execution_count": 64,
     "metadata": {},
     "output_type": "execute_result"
    }
   ],
   "source": [
    "pca = PCA()\n",
    "pca.fit(exp_km_array_n)\n",
    "pca.components_[0],exp_km_data.columns[0:11]"
   ]
  },
  {
   "cell_type": "markdown",
   "metadata": {},
   "source": [
    "### changing number of clusters to four"
   ]
  },
  {
   "cell_type": "code",
   "execution_count": 83,
   "metadata": {},
   "outputs": [
    {
     "data": {
      "text/plain": [
       "Index(['number of subjects learned ',\n",
       "       'How comfortable are you with programming?_x',\n",
       "       'How comfortable are you with statistics?_x', 'classes', 'lanuage',\n",
       "       'A1_t', 'A2_t', 'A3_t', 'A4_t', 'A5_t', 'A6_t', 'total_points_y',\n",
       "       'Final Project (72027)', 'label', 'hw time sum'],\n",
       "      dtype='object')"
      ]
     },
     "execution_count": 83,
     "metadata": {},
     "output_type": "execute_result"
    }
   ],
   "source": [
    "kmeans_model = KMeans(n_clusters=4, n_init = 20).fit(exp_km_array_n)\n",
    "labels = kmeans_model.labels_\n",
    "exp_km_data['label']= labels\n",
    "exp_km_data.columns"
   ]
  },
  {
   "cell_type": "markdown",
   "metadata": {},
   "source": [
    "#### Adding a four cluster, it becomes clear that k-mean clustering is using the x,y axis of the two compoent PCA as the boundaries for clustering. Only a couple points crossed the boundaries indicating there might be another priciple component that has a salient explanatary power.  "
   ]
  },
  {
   "cell_type": "code",
   "execution_count": 66,
   "metadata": {},
   "outputs": [
    {
     "data": {
      "image/png": "[encoded data removed]",
      "text/plain": [
       "<Figure size 360x360 with 1 Axes>"
      ]
     },
     "metadata": {
      "needs_background": "light"
     },
     "output_type": "display_data"
    }
   ],
   "source": [
    "pca = PCA(n_components=2)\n",
    "principalComponents = pca.fit_transform(exp_km_array_n)\n",
    "principalDf = pd.DataFrame(data = principalComponents\n",
    "             , columns = ['principal component 1', 'principal component 2'])\n",
    "\n",
    "finalDf = pd.concat([principalDf, pd.Series(exp_km_data['label']).reset_index(drop=True)], axis = 1)\n",
    "\n",
    "fig = plt.figure(figsize = (5,5))\n",
    "ax = fig.add_subplot(1,1,1) \n",
    "ax.set_xlabel('Principal Component 1', fontsize = 15)\n",
    "ax.set_ylabel('Principal Component 2', fontsize = 15)\n",
    "ax.set_title('2 component PCA (four clusters)', fontsize = 20)\n",
    "targets = [0, 1, 2,3]\n",
    "colors = ['r', 'g', 'b','orange']\n",
    "for target, color in zip(targets,colors):\n",
    "    indicesToKeep = (finalDf['label'] == target)\n",
    "    ax.scatter(finalDf.loc[indicesToKeep, 'principal component 1']\n",
    "               , finalDf.loc[indicesToKeep, 'principal component 2']\n",
    "               , c = color\n",
    "               , s = 50)\n",
    "ax.legend(np.array(targets)+1)\n",
    "ax.grid()"
   ]
  },
  {
   "cell_type": "markdown",
   "metadata": {},
   "source": [
    "### After running a scree plot, it becomes evident that the first two principle component explains about 61% of the variance in the data, which is not terrible. By adding the third component, the 3 principle components are able to explain more than 70% of the variance. (~73%) "
   ]
  },
  {
   "cell_type": "code",
   "execution_count": 67,
   "metadata": {},
   "outputs": [
    {
     "data": {
      "text/plain": [
       "0.6135135001078691"
      ]
     },
     "execution_count": 67,
     "metadata": {},
     "output_type": "execute_result"
    }
   ],
   "source": [
    "pca.explained_variance_ratio_[0:3].sum()"
   ]
  },
  {
   "cell_type": "code",
   "execution_count": 68,
   "metadata": {
    "scrolled": true
   },
   "outputs": [
    {
     "data": {
      "image/png": "[encoded data removed]",
      "text/plain": [
       "<Figure size 432x288 with 1 Axes>"
      ]
     },
     "metadata": {
      "needs_background": "light"
     },
     "output_type": "display_data"
    }
   ],
   "source": [
    "pca = PCA(n_components=11)\n",
    "principalComponents = pca.fit_transform(exp_km_array_n)\n",
    "PC_values = np.arange(pca.n_components_) + 1\n",
    "plt.plot(PC_values, pca.explained_variance_ratio_, 'ro-', linewidth=2)\n",
    "plt.title('Scree Plot')\n",
    "plt.xlabel('Principal Component')\n",
    "plt.ylabel('Proportion of Variance Explained')\n",
    "plt.show()"
   ]
  },
  {
   "cell_type": "code",
   "execution_count": 69,
   "metadata": {},
   "outputs": [
    {
     "data": {
      "text/plain": [
       "0.7301940587829471"
      ]
     },
     "execution_count": 69,
     "metadata": {},
     "output_type": "execute_result"
    }
   ],
   "source": [
    "pca.explained_variance_ratio_[0:3].sum()"
   ]
  },
  {
   "cell_type": "markdown",
   "metadata": {},
   "source": [
    "## Clustering and PCA more varibles with summed up homework time "
   ]
  },
  {
   "cell_type": "markdown",
   "metadata": {},
   "source": [
    "# useful data "
   ]
  },
  {
   "cell_type": "code",
   "execution_count": 70,
   "metadata": {},
   "outputs": [
    {
     "data": {
      "text/plain": [
       "((181, 15),\n",
       " Index(['piazza views', 'hw_t', 'section', 'p_stat_sum', 'difficulty',\n",
       "        'workload', 'project_t', 'number of subjects learned ',\n",
       "        'How comfortable are you with programming?_x',\n",
       "        'How comfortable are you with statistics?_x', 'classes', 'lanuage',\n",
       "        'total_points', 'Major', 'Level'],\n",
       "       dtype='object'))"
      ]
     },
     "execution_count": 70,
     "metadata": {},
     "output_type": "execute_result"
    }
   ],
   "source": [
    "data_useful = pd.merge(merged['piazza views'],merged['hw_t'], left_index=True, right_on=\"ID\")\n",
    "data_useful = pd.merge(data_useful,merged['section'], left_index=True, right_on=\"ID\")\n",
    "data_useful = pd.merge(data_useful,merged['p_stat_sum'], left_index=True, right_on=\"ID\")\n",
    "data_useful = pd.merge(data_useful,merged['difficulty'], left_index=True, right_on=\"ID\")\n",
    "data_useful = pd.merge(data_useful,merged['workload'], left_index=True, right_on=\"ID\")\n",
    "data_useful = pd.merge(data_useful,merged['project_t'], left_index=True, right_on=\"ID\")\n",
    "data_useful = pd.merge(data_useful,experience, left_index=True, right_on=\"ID\")\n",
    "data_useful = pd.merge(data_useful,merged['Major'], left_index=True, right_on=\"ID\")\n",
    "data_useful = pd.merge(data_useful,merged['Level'], left_index=True, right_on=\"ID\")\n",
    "\n",
    "# exp_km_data.drop(['total_points_x'], axis=1, inplace=True)\n",
    "data_useful.dropna(inplace=True)\n",
    "data_useful_array = np.array(data_useful)\n",
    "data_useful.shape , data_useful.columns\n"
   ]
  },
  {
   "cell_type": "markdown",
   "metadata": {},
   "source": [
    "#### normalization "
   ]
  },
  {
   "cell_type": "code",
   "execution_count": 71,
   "metadata": {},
   "outputs": [],
   "source": [
    "temp = []\n",
    "for col in data_useful.columns[0:13]:\n",
    "    temp.append((np.array(data_useful[col])-data_useful[col].mean())/data_useful[col].max())\n",
    "    \n",
    "data_useful_array_norm = np.concatenate((temp[0], temp[1]), axis=0)\n",
    "for i in temp[2:]:\n",
    "    data_useful_array_norm = np.concatenate((data_useful_array_norm,i), axis=0)\n",
    "    \n",
    "data_useful_array_n = data_useful_array_norm.reshape(181, 13,order='F')"
   ]
  },
  {
   "cell_type": "code",
   "execution_count": 72,
   "metadata": {},
   "outputs": [],
   "source": [
    "kmeans_model = KMeans(n_clusters=4, n_init = 20).fit(data_useful_array_n)\n",
    "labels = kmeans_model.labels_\n",
    "data_useful['label']=labels"
   ]
  },
  {
   "cell_type": "code",
   "execution_count": 73,
   "metadata": {},
   "outputs": [
    {
     "data": {
      "image/png": "[encoded data removed]",
      "text/plain": [
       "<Figure size 432x288 with 1 Axes>"
      ]
     },
     "metadata": {
      "needs_background": "light"
     },
     "output_type": "display_data"
    },
    {
     "data": {
      "text/plain": [
       "(None, 0.7687100918536577)"
      ]
     },
     "execution_count": 73,
     "metadata": {},
     "output_type": "execute_result"
    }
   ],
   "source": [
    "pca = PCA(n_components=9)\n",
    "principalComponents = pca.fit_transform(data_useful_array_n)\n",
    "PC_values = np.arange(pca.n_components_) + 1\n",
    "plt.plot(PC_values, pca.explained_variance_ratio_, 'ro-', linewidth=2)\n",
    "plt.title('Scree Plot')\n",
    "plt.xlabel('Principal Component')\n",
    "plt.ylabel('Proportion of Variance Explained')\n",
    "plt.show(),pca.explained_variance_ratio_[0:4].sum()"
   ]
  },
  {
   "cell_type": "markdown",
   "metadata": {},
   "source": [
    "Goal here is to identify the most important factors that would determine the clusters. "
   ]
  },
  {
   "cell_type": "code",
   "execution_count": 74,
   "metadata": {
    "scrolled": true
   },
   "outputs": [
    {
     "data": {
      "image/png": "[encoded data removed]",
      "text/plain": [
       "<Figure size 360x360 with 1 Axes>"
      ]
     },
     "metadata": {
      "needs_background": "light"
     },
     "output_type": "display_data"
    }
   ],
   "source": [
    "pca = PCA(n_components=2)\n",
    "principalComponents = pca.fit_transform(data_useful_array_n[:,0:-1])\n",
    "principalDf = pd.DataFrame(data = principalComponents\n",
    "             , columns = ['principal component 1', 'principal component 2'])\n",
    "\n",
    "finalDf = pd.concat([principalDf, pd.Series(data_useful['label']).reset_index(drop=True)], axis = 1)\n",
    "\n",
    "fig = plt.figure(figsize = (5,5))\n",
    "ax = fig.add_subplot(1,1,1) \n",
    "ax.set_xlabel('Principal Component 1', fontsize = 15)\n",
    "ax.set_ylabel('Principal Component 2', fontsize = 15)\n",
    "ax.set_title('2 component PCA (four clusters)', fontsize = 20)\n",
    "targets = [0, 1, 2,3]\n",
    "colors = ['r', 'g', 'b','black']\n",
    "for target, color in zip(targets,colors):\n",
    "    indicesToKeep = (finalDf['label'] == target)\n",
    "    ax.scatter(finalDf.loc[indicesToKeep, 'principal component 1']\n",
    "               , finalDf.loc[indicesToKeep, 'principal component 2']\n",
    "               , c = color\n",
    "               , s = 50)\n",
    "ax.legend(np.array(targets)+1)\n",
    "ax.grid()"
   ]
  },
  {
   "cell_type": "code",
   "execution_count": 75,
   "metadata": {},
   "outputs": [
    {
     "data": {
      "image/png": "[encoded data removed]",
      "text/plain": [
       "<Figure size 360x360 with 2 Axes>"
      ]
     },
     "metadata": {},
     "output_type": "display_data"
    }
   ],
   "source": [
    "import re, seaborn as sns, numpy as np, pandas as pd, random\n",
    "from pylab import *\n",
    "from matplotlib.pyplot import plot, show, draw, figure, cm\n",
    "import matplotlib.pyplot as plt\n",
    "from mpl_toolkits.mplot3d import Axes3D\n",
    "sns.set_style(\"whitegrid\", {'axes.grid' : False})\n",
    "\n",
    "\n",
    "pca = PCA(n_components=3)\n",
    "principalComponents = pca.fit_transform(data_useful_array_n)\n",
    "principalDf = pd.DataFrame(data = principalComponents\n",
    "             , columns = ['principal component 1', 'principal component 2','principal component 3'])\n",
    "\n",
    "finalDf = pd.concat([principalDf, pd.Series(data_useful['label']).reset_index(drop=True)], axis = 1)\n",
    "\n",
    "fig = plt.figure(figsize = (5,5))\n",
    "ax = fig.add_subplot(1,1,1) \n",
    "ax = Axes3D(fig)\n",
    "ax.set_xlabel('Principal Component 1', fontsize = 15)\n",
    "ax.set_ylabel('Principal Component 2', fontsize = 15)\n",
    "ax.set_zlabel('Principal Component 3', fontsize = 15)\n",
    "ax.set_title('2 component PCA (four clusters)', fontsize = 20)\n",
    "targets = [0, 1, 2,3]\n",
    "colors = ['r', 'g', 'b','black']\n",
    "for target, color in zip(targets,colors):\n",
    "    indicesToKeep = (finalDf['label'] == target)\n",
    "    ax.scatter(xs = finalDf.loc[indicesToKeep, 'principal component 1']\n",
    "               , ys = finalDf.loc[indicesToKeep, 'principal component 2']\n",
    "               , zs = finalDf.loc[indicesToKeep, 'principal component 3']\n",
    "               , c = color\n",
    "               , s = 50)\n",
    "ax.legend(np.array(targets)+1)\n",
    "ax.grid()\n",
    "ax.view_init(45, 100)\n"
   ]
  },
  {
   "cell_type": "markdown",
   "metadata": {},
   "source": [
    "PCA loading, weights"
   ]
  },
  {
   "cell_type": "markdown",
   "metadata": {},
   "source": [
    "Y axis as feature\n",
    "x axis as clusters\n",
    "box plot\n",
    "most common majors in clusters, others...\n"
   ]
  },
  {
   "cell_type": "code",
   "execution_count": 76,
   "metadata": {},
   "outputs": [
    {
     "data": {
      "text/html": [
       "<div>\n",
       "<style scoped>\n",
       "    .dataframe tbody tr th:only-of-type {\n",
       "        vertical-align: middle;\n",
       "    }\n",
       "\n",
       "    .dataframe tbody tr th {\n",
       "        vertical-align: top;\n",
       "    }\n",
       "\n",
       "    .dataframe thead th {\n",
       "        text-align: right;\n",
       "    }\n",
       "</style>\n",
       "<table border=\"1\" class=\"dataframe\">\n",
       "  <thead>\n",
       "    <tr style=\"text-align: right;\">\n",
       "      <th></th>\n",
       "      <th>PC1</th>\n",
       "      <th>PC2</th>\n",
       "      <th>PC3</th>\n",
       "      <th>PC4</th>\n",
       "      <th>sum</th>\n",
       "    </tr>\n",
       "  </thead>\n",
       "  <tbody>\n",
       "    <tr>\n",
       "      <th>piazza views</th>\n",
       "      <td>-0.006726</td>\n",
       "      <td>-0.024458</td>\n",
       "      <td>-0.040844</td>\n",
       "      <td>0.141305</td>\n",
       "      <td>-0.072028</td>\n",
       "    </tr>\n",
       "    <tr>\n",
       "      <th>hw_t</th>\n",
       "      <td>0.076255</td>\n",
       "      <td>-0.009657</td>\n",
       "      <td>0.011305</td>\n",
       "      <td>0.020522</td>\n",
       "      <td>0.077903</td>\n",
       "    </tr>\n",
       "    <tr>\n",
       "      <th>section</th>\n",
       "      <td>0.140531</td>\n",
       "      <td>-0.409762</td>\n",
       "      <td>-0.021099</td>\n",
       "      <td>-0.032230</td>\n",
       "      <td>-0.290331</td>\n",
       "    </tr>\n",
       "    <tr>\n",
       "      <th>p_stat_sum</th>\n",
       "      <td>0.010602</td>\n",
       "      <td>-0.004343</td>\n",
       "      <td>-0.020971</td>\n",
       "      <td>0.034626</td>\n",
       "      <td>-0.014712</td>\n",
       "    </tr>\n",
       "    <tr>\n",
       "      <th>difficulty</th>\n",
       "      <td>0.382666</td>\n",
       "      <td>0.094127</td>\n",
       "      <td>-0.062148</td>\n",
       "      <td>0.051940</td>\n",
       "      <td>0.414645</td>\n",
       "    </tr>\n",
       "    <tr>\n",
       "      <th>workload</th>\n",
       "      <td>0.385277</td>\n",
       "      <td>0.070201</td>\n",
       "      <td>-0.085313</td>\n",
       "      <td>-0.097595</td>\n",
       "      <td>0.370166</td>\n",
       "    </tr>\n",
       "    <tr>\n",
       "      <th>project_t</th>\n",
       "      <td>0.026319</td>\n",
       "      <td>-0.018783</td>\n",
       "      <td>0.001268</td>\n",
       "      <td>0.022166</td>\n",
       "      <td>0.008804</td>\n",
       "    </tr>\n",
       "    <tr>\n",
       "      <th>number of subjects learned</th>\n",
       "      <td>-0.152433</td>\n",
       "      <td>0.011937</td>\n",
       "      <td>-0.139839</td>\n",
       "      <td>-0.019985</td>\n",
       "      <td>-0.280336</td>\n",
       "    </tr>\n",
       "    <tr>\n",
       "      <th>How comfortable are you with programming?_x</th>\n",
       "      <td>-0.137493</td>\n",
       "      <td>0.016116</td>\n",
       "      <td>-0.010358</td>\n",
       "      <td>-0.067873</td>\n",
       "      <td>-0.131734</td>\n",
       "    </tr>\n",
       "    <tr>\n",
       "      <th>How comfortable are you with statistics?_x</th>\n",
       "      <td>-0.078875</td>\n",
       "      <td>0.016788</td>\n",
       "      <td>-0.064239</td>\n",
       "      <td>-0.072499</td>\n",
       "      <td>-0.126326</td>\n",
       "    </tr>\n",
       "    <tr>\n",
       "      <th>classes</th>\n",
       "      <td>-0.031714</td>\n",
       "      <td>-0.034275</td>\n",
       "      <td>-0.157571</td>\n",
       "      <td>0.128867</td>\n",
       "      <td>-0.223560</td>\n",
       "    </tr>\n",
       "    <tr>\n",
       "      <th>lanuage</th>\n",
       "      <td>-0.116945</td>\n",
       "      <td>0.001286</td>\n",
       "      <td>-0.220985</td>\n",
       "      <td>-0.057035</td>\n",
       "      <td>-0.336645</td>\n",
       "    </tr>\n",
       "    <tr>\n",
       "      <th>total_points</th>\n",
       "      <td>-0.005680</td>\n",
       "      <td>-0.009408</td>\n",
       "      <td>-0.003633</td>\n",
       "      <td>-0.001724</td>\n",
       "      <td>-0.018721</td>\n",
       "    </tr>\n",
       "  </tbody>\n",
       "</table>\n",
       "</div>"
      ],
      "text/plain": [
       "                                                  PC1       PC2       PC3  \\\n",
       "piazza views                                -0.006726 -0.024458 -0.040844   \n",
       "hw_t                                         0.076255 -0.009657  0.011305   \n",
       "section                                      0.140531 -0.409762 -0.021099   \n",
       "p_stat_sum                                   0.010602 -0.004343 -0.020971   \n",
       "difficulty                                   0.382666  0.094127 -0.062148   \n",
       "workload                                     0.385277  0.070201 -0.085313   \n",
       "project_t                                    0.026319 -0.018783  0.001268   \n",
       "number of subjects learned                  -0.152433  0.011937 -0.139839   \n",
       "How comfortable are you with programming?_x -0.137493  0.016116 -0.010358   \n",
       "How comfortable are you with statistics?_x  -0.078875  0.016788 -0.064239   \n",
       "classes                                     -0.031714 -0.034275 -0.157571   \n",
       "lanuage                                     -0.116945  0.001286 -0.220985   \n",
       "total_points                                -0.005680 -0.009408 -0.003633   \n",
       "\n",
       "                                                  PC4       sum  \n",
       "piazza views                                 0.141305 -0.072028  \n",
       "hw_t                                         0.020522  0.077903  \n",
       "section                                     -0.032230 -0.290331  \n",
       "p_stat_sum                                   0.034626 -0.014712  \n",
       "difficulty                                   0.051940  0.414645  \n",
       "workload                                    -0.097595  0.370166  \n",
       "project_t                                    0.022166  0.008804  \n",
       "number of subjects learned                  -0.019985 -0.280336  \n",
       "How comfortable are you with programming?_x -0.067873 -0.131734  \n",
       "How comfortable are you with statistics?_x  -0.072499 -0.126326  \n",
       "classes                                      0.128867 -0.223560  \n",
       "lanuage                                     -0.057035 -0.336645  \n",
       "total_points                                -0.001724 -0.018721  "
      ]
     },
     "execution_count": 76,
     "metadata": {},
     "output_type": "execute_result"
    }
   ],
   "source": [
    "pca = PCA(n_components=4)\n",
    "principalComponents = pca.fit_transform(data_useful_array_n)\n",
    "loadings = pca.components_.T * np.sqrt(pca.explained_variance_)\n",
    "\n",
    "loading_matrix = pd.DataFrame(loadings, columns=['PC1', 'PC2','PC3','PC4'], index= data_useful.columns[0:13])\n",
    "loading_matrix['sum']= loading_matrix['PC1']+loading_matrix['PC2']+loading_matrix['PC3']\n",
    "loading_matrix"
   ]
  },
  {
   "cell_type": "code",
   "execution_count": 77,
   "metadata": {},
   "outputs": [
    {
     "data": {
      "text/plain": [
       "98.36488372093025"
      ]
     },
     "execution_count": 77,
     "metadata": {},
     "output_type": "execute_result"
    }
   ],
   "source": [
    "data_useful[data_useful['label']==1]['total_points'].mean(axis=0)"
   ]
  },
  {
   "cell_type": "code",
   "execution_count": 78,
   "metadata": {},
   "outputs": [
    {
     "data": {
      "text/plain": [
       "95.79542857142856"
      ]
     },
     "execution_count": 78,
     "metadata": {},
     "output_type": "execute_result"
    }
   ],
   "source": [
    "data_useful[data_useful['label']==2]['total_points'].mean(axis=0)"
   ]
  },
  {
   "cell_type": "code",
   "execution_count": 79,
   "metadata": {},
   "outputs": [
    {
     "data": {
      "text/plain": [
       "96.81185185185183"
      ]
     },
     "execution_count": 79,
     "metadata": {},
     "output_type": "execute_result"
    }
   ],
   "source": [
    "data_useful[data_useful['label']==3]['total_points'].mean(axis=0)"
   ]
  },
  {
   "cell_type": "code",
   "execution_count": 80,
   "metadata": {},
   "outputs": [
    {
     "data": {
      "text/plain": [
       "97.11244897959182"
      ]
     },
     "execution_count": 80,
     "metadata": {},
     "output_type": "execute_result"
    }
   ],
   "source": [
    "data_useful[data_useful['label']==0]['total_points'].mean(axis=0)"
   ]
  },
  {
   "cell_type": "markdown",
   "metadata": {},
   "source": [
    "Storing each cluster into seperate CSV files for furthur analysis"
   ]
  },
  {
   "cell_type": "code",
   "execution_count": 81,
   "metadata": {},
   "outputs": [],
   "source": [
    "data_useful[data_useful['label']==0].to_csv('clusters/cluster0.csv')\n",
    "data_useful[data_useful['label']==1].to_csv('clusters/cluster1.csv')\n",
    "data_useful[data_useful['label']==2].to_csv('clusters/cluster2.csv')\n",
    "data_useful[data_useful['label']==3].to_csv('clusters/cluster3.csv')"
   ]
  },
  {
   "cell_type": "code",
   "execution_count": null,
   "metadata": {},
   "outputs": [],
   "source": []
  }
 ],
 "metadata": {
  "kernelspec": {
   "display_name": "Python 3",
   "language": "python",
   "name": "python3"
  },
  "language_info": {
   "codemirror_mode": {
    "name": "ipython",
    "version": 3
   },
   "file_extension": ".py",
   "mimetype": "text/x-python",
   "name": "python",
   "nbconvert_exporter": "python",
   "pygments_lexer": "ipython3",
   "version": "3.8.3"
  }
 },
 "nbformat": 4,
 "nbformat_minor": 4
}
